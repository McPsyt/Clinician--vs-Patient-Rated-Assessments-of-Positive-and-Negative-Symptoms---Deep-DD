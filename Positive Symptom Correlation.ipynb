  "source": [
    "import pandas as pd\n",
    "import pingouin as pg\n",
    "\n",
    "#for individual columns\n",
    "def rm_corr(x_col, y_col, df):\n",
    "\n",
    "    return pg.rm_corr(data=df, x=x_col, y=y_col, subject='ID')\n",
    "\n",
    "if __name__ == '__main__':\n",
    "    df = pd.read_excel(\"Positive Symptoms 2.xlsx\", sheet=\"Visual Hallucinations\")\n",
    "    xs = [\"lshs\",\"ahrs\"]\n",
    "    ys = [\"saps\", \"panss\"]\n",
    "    for x in xs:\n",
    "        for y in ys:\n",
    "            print(x, y)\n",
    "            print(rm_corr(x_col=x, y_col=y, df=df))\n",
    "            print(\"######################\")"
   ]
  }
  
