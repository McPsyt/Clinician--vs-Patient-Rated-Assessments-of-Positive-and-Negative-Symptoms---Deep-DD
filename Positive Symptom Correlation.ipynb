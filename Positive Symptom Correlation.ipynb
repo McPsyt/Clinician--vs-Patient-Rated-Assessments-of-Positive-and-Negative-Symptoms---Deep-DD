{
 "cells": [
  {
   "cell_type": "code",
   "execution_count": 1,
   "id": "7a6b68b0-0988-469c-90a7-0242c2e9fe82",
   "metadata": {},
   "outputs": [
    {
     "name": "stdout",
     "output_type": "stream",
     "text": [
      "lshs saps\n",
      "                r  dof      pval          CI95%     power\n",
      "rm_corr  0.385337    7  0.305758  [-0.37, 0.84]  0.181171\n",
      "######################\n",
      "lshs panss\n",
      "               r  dof      pval         CI95%     power\n",
      "rm_corr -0.29403    7  0.442499  [-0.8, 0.46]  0.121368\n",
      "######################\n",
      "ahrs saps\n",
      "                r  dof      pval         CI95%     power\n",
      "rm_corr  0.720577    7  0.028523  [0.11, 0.94]  0.643055\n",
      "######################\n",
      "ahrs panss\n",
      "                r  dof     pval          CI95%     power\n",
      "rm_corr -0.317413    7  0.40523  [-0.81, 0.44]  0.134585\n",
      "######################\n"
     ]
    }
   ],
   "source": [
    "import pandas as pd\n",
    "import pingouin as pg\n",
    "\n",
    "#for individual columns\n",
    "def rm_corr(x_col, y_col, df):\n",
    "\n",
    "    return pg.rm_corr(data=df, x=x_col, y=y_col, subject='ID')\n",
    "\n",
    "if __name__ == '__main__':\n",
    "    df = pd.read_excel(\"Positive Symptoms 2.xlsx\", sheet=\"Visual Hallucinations\")\n",
    "    xs = [\"lshs\",\"ahrs\"]\n",
    "    ys = [\"saps\", \"panss\"]\n",
    "    for x in xs:\n",
    "        for y in ys:\n",
    "            print(x, y)\n",
    "            print(rm_corr(x_col=x, y_col=y, df=df))\n",
    "            print(\"######################\")"
   ]
  },
  {
   "cell_type": "code",
   "execution_count": 3,
   "id": "e90689aa-a17a-4a16-a07a-1f336eb917f9",
   "metadata": {},
   "outputs": [
    {
     "name": "stdout",
     "output_type": "stream",
     "text": [
      "lshs saps\n",
      "                r  dof     pval        CI95%    power\n",
      "rm_corr  0.840168    7  0.00458  [0.4, 0.97]  0.87521\n",
      "######################\n",
      "lshs panss\n",
      "                r  dof     pval         CI95%     power\n",
      "rm_corr  0.284496    7  0.45811  [-0.47, 0.8]  0.116361\n",
      "######################\n"
     ]
    }
   ],
   "source": [
    "import pandas as pd\n",
    "import pingouin as pg\n",
    "\n",
    "#for individual columns\n",
    "def rm_corr(x_col, y_col, df):\n",
    "\n",
    "    return pg.rm_corr(data=df, x=x_col, y=y_col, subject='ID')\n",
    "\n",
    "if __name__ == '__main__':\n",
    "    df = pd.read_excel(\"Positive Symptoms 2.xlsx\", sheet_name=\"Visual Hallucinations\")\n",
    "    xs = [\"lshs\"]\n",
    "    ys = [\"saps\", \"panss\"]\n",
    "    for x in xs:\n",
    "        for y in ys:\n",
    "            print(x, y)\n",
    "            print(rm_corr(x_col=x, y_col=y, df=df))\n",
    "            print(\"######################\")"
   ]
  },
  {
   "cell_type": "code",
   "execution_count": 5,
   "id": "0b7d2343-3d48-4267-8774-a739b7c90e71",
   "metadata": {},
   "outputs": [
    {
     "name": "stdout",
     "output_type": "stream",
     "text": [
      "     2    August   6  4  1  0  Unnamed: 6  Unnamed: 7\n",
      "0    2  November   3  0  0  0         NaN         NaN\n",
      "1    2     March   0  0  0  0         NaN         NaN\n",
      "2    3    August   0  0  0  0         NaN         NaN\n",
      "3    3   October   1  0  1  0         NaN         NaN\n",
      "4    4   October  10  4  0  0         NaN         NaN\n",
      "5   23   October   3  0  1  0         NaN         NaN\n",
      "6    6   October   4  0  2  1         NaN         NaN\n",
      "7    7    August   6  1  2  2         NaN         NaN\n",
      "8    7   October   8  0  1  2         NaN         NaN\n",
      "9   25     March   0  0  0  0         NaN         NaN\n",
      "10  25     April   0  0  0  0         NaN         NaN\n",
      "11  25       May   0  0  0  0         NaN         NaN\n",
      "12  31   October   0  0  0  0         NaN         NaN\n",
      "13  31  February   0  0  0  0         NaN         NaN\n",
      "14  31      June   0  0  0  0         NaN         NaN\n",
      "lshs saps\n"
     ]
    },
    {
     "ename": "AssertionError",
     "evalue": "The lshs column is not in data.",
     "output_type": "error",
     "traceback": [
      "\u001b[0;31m---------------------------------------------------------------------------\u001b[0m",
      "\u001b[0;31mAssertionError\u001b[0m                            Traceback (most recent call last)",
      "Cell \u001b[0;32mIn[5], line 17\u001b[0m\n\u001b[1;32m     15\u001b[0m \u001b[38;5;28;01mfor\u001b[39;00m y \u001b[38;5;129;01min\u001b[39;00m ys:\n\u001b[1;32m     16\u001b[0m     \u001b[38;5;28mprint\u001b[39m(x, y)\n\u001b[0;32m---> 17\u001b[0m     \u001b[38;5;28mprint\u001b[39m(rm_corr(x_col\u001b[38;5;241m=\u001b[39mx, y_col\u001b[38;5;241m=\u001b[39my, df\u001b[38;5;241m=\u001b[39mdf))\n\u001b[1;32m     18\u001b[0m     \u001b[38;5;28mprint\u001b[39m(\u001b[38;5;124m\"\u001b[39m\u001b[38;5;124m######################\u001b[39m\u001b[38;5;124m\"\u001b[39m)\n",
      "Cell \u001b[0;32mIn[5], line 7\u001b[0m, in \u001b[0;36mrm_corr\u001b[0;34m(x_col, y_col, df)\u001b[0m\n\u001b[1;32m      5\u001b[0m \u001b[38;5;28;01mdef\u001b[39;00m\u001b[38;5;250m \u001b[39m\u001b[38;5;21mrm_corr\u001b[39m(x_col, y_col, df):\n\u001b[0;32m----> 7\u001b[0m     \u001b[38;5;28;01mreturn\u001b[39;00m pg\u001b[38;5;241m.\u001b[39mrm_corr(data\u001b[38;5;241m=\u001b[39mdf, x\u001b[38;5;241m=\u001b[39mx_col, y\u001b[38;5;241m=\u001b[39my_col, subject\u001b[38;5;241m=\u001b[39m\u001b[38;5;124m'\u001b[39m\u001b[38;5;124mID\u001b[39m\u001b[38;5;124m'\u001b[39m)\n",
      "File \u001b[0;32m~/.local/lib/python3.13/site-packages/pingouin/correlation.py:1193\u001b[0m, in \u001b[0;36mrm_corr\u001b[0;34m(data, x, y, subject)\u001b[0m\n\u001b[1;32m   1191\u001b[0m \u001b[38;5;66;03m# Safety checks\u001b[39;00m\n\u001b[1;32m   1192\u001b[0m \u001b[38;5;28;01massert\u001b[39;00m \u001b[38;5;28misinstance\u001b[39m(data, pd\u001b[38;5;241m.\u001b[39mDataFrame), \u001b[38;5;124m\"\u001b[39m\u001b[38;5;124mData must be a DataFrame\u001b[39m\u001b[38;5;124m\"\u001b[39m\n\u001b[0;32m-> 1193\u001b[0m \u001b[38;5;28;01massert\u001b[39;00m x \u001b[38;5;129;01min\u001b[39;00m data\u001b[38;5;241m.\u001b[39mcolumns, \u001b[38;5;124m\"\u001b[39m\u001b[38;5;124mThe \u001b[39m\u001b[38;5;132;01m%s\u001b[39;00m\u001b[38;5;124m column is not in data.\u001b[39m\u001b[38;5;124m\"\u001b[39m \u001b[38;5;241m%\u001b[39m x\n\u001b[1;32m   1194\u001b[0m \u001b[38;5;28;01massert\u001b[39;00m y \u001b[38;5;129;01min\u001b[39;00m data\u001b[38;5;241m.\u001b[39mcolumns, \u001b[38;5;124m\"\u001b[39m\u001b[38;5;124mThe \u001b[39m\u001b[38;5;132;01m%s\u001b[39;00m\u001b[38;5;124m column is not in data.\u001b[39m\u001b[38;5;124m\"\u001b[39m \u001b[38;5;241m%\u001b[39m y\n\u001b[1;32m   1195\u001b[0m \u001b[38;5;28;01massert\u001b[39;00m data[x]\u001b[38;5;241m.\u001b[39mdtype\u001b[38;5;241m.\u001b[39mkind \u001b[38;5;129;01min\u001b[39;00m \u001b[38;5;124m\"\u001b[39m\u001b[38;5;124mbfiu\u001b[39m\u001b[38;5;124m\"\u001b[39m, \u001b[38;5;124m\"\u001b[39m\u001b[38;5;132;01m%s\u001b[39;00m\u001b[38;5;124m must be numeric.\u001b[39m\u001b[38;5;124m\"\u001b[39m \u001b[38;5;241m%\u001b[39m x\n",
      "\u001b[0;31mAssertionError\u001b[0m: The lshs column is not in data."
     ]
    }
   ],
   "source": [
    "import pandas as pd\n",
    "import pingouin as pg\n",
    "\n",
    "#for individual columns\n",
    "def rm_corr(x_col, y_col, df):\n",
    "\n",
    "    return pg.rm_corr(data=df, x=x_col, y=y_col, subject='ID')\n",
    "\n",
    "if __name__ == '__main__':\n",
    "    df = pd.read_excel(\"Positive Symptoms 2.xlsx\", sheet_name=\"Distress from Hallucinations\", skiprows=20)\n",
    "    xs = [\"lshs\",\"ahrs\"]\n",
    "    ys = [\"saps\", \"panss\"]\n",
    "    print(df)\n",
    "    for x in xs:\n",
    "        for y in ys:\n",
    "            print(x, y)\n",
    "            print(rm_corr(x_col=x, y_col=y, df=df))\n",
    "            print(\"######################\")"
   ]
  },
  {
   "cell_type": "code",
   "execution_count": 14,
   "id": "0578317c-16a0-4b1c-a5f8-7777b9687e03",
   "metadata": {
    "scrolled": true
   },
   "outputs": [
    {
     "name": "stdout",
     "output_type": "stream",
     "text": [
      "Auditory Hallucination lshs Auditory Hallucination saps\n",
      "                r  dof      pval          CI95%     power\n",
      "rm_corr  0.178965    7  0.645007  [-0.55, 0.75]  0.074225\n",
      "Auditory Hallucination lshs Auditory Hallucination panss\n",
      "                r  dof      pval          CI95%     power\n",
      "rm_corr  0.236218    7  0.540599  [-0.51, 0.78]  0.094194\n",
      "Auditory Hallucination ahrs Auditory Hallucination saps\n",
      "                r  dof      pval         CI95%     power\n",
      "rm_corr  0.720577    7  0.028523  [0.11, 0.94]  0.643055\n",
      "Auditory Hallucination ahrs Auditory Hallucination panss\n",
      "                r  dof     pval          CI95%     power\n",
      "rm_corr -0.317413    7  0.40523  [-0.81, 0.44]  0.134585\n"
     ]
    }
   ],
   "source": [
    "import pandas as pd\n",
    "import pingouin as pg\n",
    "\n",
    "#for individual columns\n",
    "def rm_corr(x_col, y_col, df):\n",
    "\n",
    "    return pg.rm_corr(data=df, x=x_col, y=y_col, subject='ID')\n",
    "\n",
    "if __name__ == '__main__':\n",
    "    df = pd.read_excel(\"positive_symptoms_with_combined_cols.xlsx\")\n",
    "    basic_col_name = \"Auditory Hallucination\"\n",
    "    x_questionnaires = [\"lshs\", \"ahrs\"]\n",
    "    y_questionnaires = [\"saps\", \"panss\"]\n",
    "\n",
    "    x_cols = [\"Auditory Hallucination lshs\", \"Auditory Hallucination ahrs\"]\n",
    "    y_cols = [\"Auditory Hallucination saps\", \"Auditory Hallucination panss\"]\n",
    "    for x_col in x_cols:\n",
    "        for y_col in y_cols:\n",
    "            print(x_col, y_col)\n",
    "            print(rm_corr(x_col, y_col, df))"
   ]
  },
  {
   "cell_type": "code",
   "execution_count": 16,
   "id": "f7b37222-7c8f-4ca3-ac4a-d8c5fae4cd5c",
   "metadata": {},
   "outputs": [
    {
     "name": "stdout",
     "output_type": "stream",
     "text": [
      "Visual Hallucinations lshs Visual Hallucinations saps\n",
      "                r  dof     pval        CI95%    power\n",
      "rm_corr  0.840168    7  0.00458  [0.4, 0.97]  0.87521\n",
      "Visual Hallucinations lshs Visual Hallucinations panss\n",
      "                r  dof     pval         CI95%     power\n",
      "rm_corr  0.284496    7  0.45811  [-0.47, 0.8]  0.116361\n"
     ]
    }
   ],
   "source": [
    "import pandas as pd\n",
    "import pingouin as pg\n",
    "\n",
    "#for individual columns\n",
    "def rm_corr(x_col, y_col, df):\n",
    "\n",
    "    return pg.rm_corr(data=df, x=x_col, y=y_col, subject='ID')\n",
    "\n",
    "if __name__ == '__main__':\n",
    "    df = pd.read_excel(\"positive_symptoms_with_combined_cols.xlsx\")\n",
    "    basic_col_name = \"Visual Hallucinations\"\n",
    "    x_questionnaires = [\"lshs\"]\n",
    "    y_questionnaires = [\"saps\", \"panss\"]\n",
    "\n",
    "    x_cols = [\"Visual Hallucinations lshs\"]\n",
    "    y_cols = [\"Visual Hallucinations saps\", \"Visual Hallucinations panss\"]\n",
    "    for x_col in x_cols:\n",
    "        for y_col in y_cols:\n",
    "            print(x_col, y_col)\n",
    "            print(rm_corr(x_col, y_col, df))"
   ]
  },
  {
   "cell_type": "code",
   "execution_count": 17,
   "id": "97630fdf-270e-4ca3-9229-7139f7b137a6",
   "metadata": {},
   "outputs": [
    {
     "name": "stdout",
     "output_type": "stream",
     "text": [
      "Distress from Hallucinations lshs Distress from Hallucinations saps\n",
      "                r  dof      pval          CI95%     power\n",
      "rm_corr  0.427699    7  0.250827  [-0.33, 0.85]  0.217083\n",
      "Distress from Hallucinations lshs Distress from Hallucinations panss\n",
      "                r  dof      pval         CI95%     power\n",
      "rm_corr  0.284128    7  0.458717  [-0.47, 0.8]  0.116172\n",
      "Distress from Hallucinations ahrs Distress from Hallucinations saps\n",
      "                r  dof      pval         CI95%     power\n",
      "rm_corr  0.734034    7  0.024347  [0.14, 0.94]  0.669556\n",
      "Distress from Hallucinations ahrs Distress from Hallucinations panss\n",
      "               r  dof      pval          CI95%     power\n",
      "rm_corr  0.44527    7  0.229726  [-0.31, 0.86]  0.233676\n"
     ]
    }
   ],
   "source": [
    "import pandas as pd\n",
    "import pingouin as pg\n",
    "\n",
    "#for individual columns\n",
    "def rm_corr(x_col, y_col, df):\n",
    "\n",
    "    return pg.rm_corr(data=df, x=x_col, y=y_col, subject='ID')\n",
    "\n",
    "if __name__ == '__main__':\n",
    "    df = pd.read_excel(\"positive_symptoms_with_combined_cols.xlsx\")\n",
    "    basic_col_name = \"Distress from Hallucinations\"\n",
    "    x_questionnaires = [\"lshs\",\"ahrs\"]\n",
    "    y_questionnaires = [\"saps\", \"panss\"]\n",
    "\n",
    "    x_cols = [\"Distress from Hallucinations lshs\", \"Distress from Hallucinations ahrs\"]\n",
    "    y_cols = [\"Distress from Hallucinations saps\", \"Distress from Hallucinations panss\"]\n",
    "    for x_col in x_cols:\n",
    "        for y_col in y_cols:\n",
    "            print(x_col, y_col)\n",
    "            print(rm_corr(x_col, y_col, df))"
   ]
  },
  {
   "cell_type": "code",
   "execution_count": 18,
   "id": "1e099500-c46b-4ac1-9990-8a44bb33b308",
   "metadata": {},
   "outputs": [
    {
     "name": "stdout",
     "output_type": "stream",
     "text": [
      "D:Ideas of Reference pdi D:Ideas of Reference saps\n",
      "                r  dof      pval          CI95%     power\n",
      "rm_corr  0.149337    7  0.701371  [-0.57, 0.74]  0.066332\n",
      "D:Ideas of Reference pdi D:Ideas of Reference panss\n",
      "                r  dof      pval          CI95%     power\n",
      "rm_corr  0.174956    7  0.652549  [-0.55, 0.75]  0.073063\n"
     ]
    }
   ],
   "source": [
    "import pandas as pd\n",
    "import pingouin as pg\n",
    "\n",
    "#for individual columns\n",
    "def rm_corr(x_col, y_col, df):\n",
    "\n",
    "    return pg.rm_corr(data=df, x=x_col, y=y_col, subject='ID')\n",
    "\n",
    "if __name__ == '__main__':\n",
    "    df = pd.read_excel(\"positive_symptoms_with_combined_cols.xlsx\")\n",
    "    basic_col_name = \"D:Ideas of Reference \"\n",
    "    x_questionnaires = [\"pdi\"]\n",
    "    y_questionnaires = [\"saps\", \"panss\"]\n",
    "\n",
    "    x_cols = [\"D:Ideas of Reference pdi\"]\n",
    "    y_cols = [\"D:Ideas of Reference saps\", \"D:Ideas of Reference panss\"]\n",
    "    for x_col in x_cols:\n",
    "        for y_col in y_cols:\n",
    "            print(x_col, y_col)\n",
    "            print(rm_corr(x_col, y_col, df))"
   ]
  },
  {
   "cell_type": "code",
   "execution_count": 19,
   "id": "5b5d17d8-56ed-4d99-9b9e-75f37a3c9d10",
   "metadata": {},
   "outputs": [
    {
     "name": "stdout",
     "output_type": "stream",
     "text": [
      "D:Paranoia and Persecution pdi D:Paranoia and Persecution saps\n",
      "              r  dof      pval          CI95%    power\n",
      "rm_corr  0.3849    7  0.306354  [-0.38, 0.84]  0.18083\n",
      "D:Paranoia and Persecution pdi D:Paranoia and Persecution panss\n",
      "                r  dof      pval         CI95%     power\n",
      "rm_corr  0.531661    7  0.140707  [-0.2, 0.88]  0.331181\n"
     ]
    }
   ],
   "source": [
    "import pandas as pd\n",
    "import pingouin as pg\n",
    "\n",
    "#for individual columns\n",
    "def rm_corr(x_col, y_col, df):\n",
    "\n",
    "    return pg.rm_corr(data=df, x=x_col, y=y_col, subject='ID')\n",
    "\n",
    "if __name__ == '__main__':\n",
    "    df = pd.read_excel(\"positive_symptoms_with_combined_cols.xlsx\")\n",
    "    basic_col_name = \"D:Paranoia and Persecution\"\n",
    "    x_questionnaires = [\"pdi\"]\n",
    "    y_questionnaires = [\"saps\", \"panss\"]\n",
    "\n",
    "    x_cols = [\"D:Paranoia and Persecution pdi\"]\n",
    "    y_cols = [\"D:Paranoia and Persecution saps\", \"D:Paranoia and Persecution panss\"]\n",
    "    for x_col in x_cols:\n",
    "        for y_col in y_cols:\n",
    "            print(x_col, y_col)\n",
    "            print(rm_corr(x_col, y_col, df))"
   ]
  },
  {
   "cell_type": "code",
   "execution_count": 22,
   "id": "27ff8aa0-6b8c-4cba-ba24-7f07f1abe327",
   "metadata": {},
   "outputs": [
    {
     "name": "stdout",
     "output_type": "stream",
     "text": [
      "D: Grandiosity pdi D: Grandiosity saps\n",
      "                r  dof      pval         CI95%     power\n",
      "rm_corr  0.604494    7  0.084654  [-0.1, 0.91]  0.435642\n",
      "D: Grandiosity pdi D: Grandiosity panss\n",
      "                r  dof     pval         CI95%     power\n",
      "rm_corr  0.828779    7  0.00576  [0.37, 0.96]  0.854909\n"
     ]
    }
   ],
   "source": [
    "import pandas as pd\n",
    "import pingouin as pg\n",
    "\n",
    "#for individual columns\n",
    "def rm_corr(x_col, y_col, df):\n",
    "\n",
    "    return pg.rm_corr(data=df, x=x_col, y=y_col, subject='ID')\n",
    "\n",
    "if __name__ == '__main__':\n",
    "    df = pd.read_excel(\"positive_symptoms_with_combined_cols.xlsx\")\n",
    "    basic_col_name = \"D: Grandiosity\"\n",
    "    x_questionnaires = [\"pdi\"]\n",
    "    y_questionnaires = [\"saps\", \"panss\"]\n",
    "\n",
    "    x_cols = [\"D: Grandiosity pdi\"]\n",
    "    y_cols = [\"D: Grandiosity saps\", \"D: Grandiosity panss\"]\n",
    "    for x_col in x_cols:\n",
    "        for y_col in y_cols:\n",
    "            print(x_col, y_col)\n",
    "            print(rm_corr(x_col, y_col, df))"
   ]
  },
  {
   "cell_type": "code",
   "execution_count": 26,
   "id": "fd241681-eddb-4b91-9312-7f00c90b5738",
   "metadata": {},
   "outputs": [
    {
     "name": "stdout",
     "output_type": "stream",
     "text": [
      "D:Mind Reading pdi D:Mind Reading saps\n",
      "           r  dof           pval         CI95%  power\n",
      "rm_corr -1.0    7  6.045675e-101  [-1.0, -1.0]    1.0\n",
      "D:Mind Reading pdi D:Mind Reading panss\n",
      "                r  dof      pval          CI95%     power\n",
      "rm_corr -0.634811    7  0.066253  [-0.91, 0.05]  0.485295\n"
     ]
    },
    {
     "name": "stderr",
     "output_type": "stream",
     "text": [
      "/Users/jean-francoispouliot/.local/lib/python3.13/site-packages/pingouin/effsize.py:152: RuntimeWarning: divide by zero encountered in arctanh\n",
      "  z = np.arctanh(stat)  # R-to-z transform\n",
      "/Users/jean-francoispouliot/.local/lib/python3.13/site-packages/pingouin/power.py:871: RuntimeWarning: divide by zero encountered in arctanh\n",
      "  zr = np.arctanh(r) + r / (2 * (n - 1))\n"
     ]
    }
   ],
   "source": [
    "import pandas as pd\n",
    "import pingouin as pg\n",
    "\n",
    "#for individual columns\n",
    "def rm_corr(x_col, y_col, df):\n",
    "\n",
    "    return pg.rm_corr(data=df, x=x_col, y=y_col, subject='ID')\n",
    "\n",
    "if __name__ == '__main__':\n",
    "    df = pd.read_excel(\"positive_symptoms_with_combined_cols.xlsx\")\n",
    "    basic_col_name = \"D:Mind Reading\"\n",
    "    x_questionnaires = [\"pdi\"]\n",
    "    y_questionnaires = [\"saps\", \"panss\"]\n",
    "\n",
    "    x_cols = [\"D:Mind Reading pdi\"]\n",
    "    y_cols = [\"D:Mind Reading saps\", \"D:Mind Reading panss\"]\n",
    "    for x_col in x_cols:\n",
    "        for y_col in y_cols:\n",
    "            print(x_col, y_col)\n",
    "            print(rm_corr(x_col, y_col, df))"
   ]
  },
  {
   "cell_type": "code",
   "execution_count": 2,
   "id": "f82908e6-e170-439c-8840-f7102e59956d",
   "metadata": {},
   "outputs": [
    {
     "name": "stdout",
     "output_type": "stream",
     "text": [
      "D:Religious Delusions pdi D:Religious Delusions panss\n",
      "               r  dof      pval         CI95%     power\n",
      "rm_corr  0.83474    7  0.005119  [0.38, 0.96]  0.865642\n"
     ]
    }
   ],
   "source": [
    "import pandas as pd\n",
    "import pingouin as pg\n",
    "\n",
    "#for individual columns\n",
    "def rm_corr(x_col, y_col, df):\n",
    "\n",
    "    return pg.rm_corr(data=df, x=x_col, y=y_col, subject='ID')\n",
    "\n",
    "if __name__ == '__main__':\n",
    "    df = pd.read_excel(\"positive_symptoms_with_combined_cols.xlsx\")\n",
    "    basic_col_name = \"D:Religious Delusions\"\n",
    "    x_questionnaires = [\"pdi\"]\n",
    "    y_questionnaires = [\"panss\"]\n",
    "\n",
    "    x_cols = [\"D:Religious Delusions pdi\"]\n",
    "    y_cols = [\"D:Religious Delusions panss\"]\n",
    "    for x_col in x_cols:\n",
    "        for y_col in y_cols:\n",
    "            print(x_col, y_col)\n",
    "            print(rm_corr(x_col, y_col, df))"
   ]
  },
  {
   "cell_type": "code",
   "execution_count": 4,
   "id": "2b518c0e-8ee0-4cc6-9e0f-367373a304f4",
   "metadata": {},
   "outputs": [
    {
     "name": "stdout",
     "output_type": "stream",
     "text": [
      "D:Jealousy pdi D:Jealousy panss\n",
      "                r  dof      pval         CI95%    power\n",
      "rm_corr  0.279751    7  0.465966  [-0.47, 0.8]  0.11395\n"
     ]
    }
   ],
   "source": [
    "import pandas as pd\n",
    "import pingouin as pg\n",
    "\n",
    "#for individual columns\n",
    "def rm_corr(x_col, y_col, df):\n",
    "\n",
    "    return pg.rm_corr(data=df, x=x_col, y=y_col, subject='ID')\n",
    "\n",
    "if __name__ == '__main__':\n",
    "    df = pd.read_excel(\"positive_symptoms_with_combined_cols.xlsx\")\n",
    "    basic_col_name = \"D:Jealousy\"\n",
    "    x_questionnaires = [\"pdi\"]\n",
    "    y_questionnaires = [\"saps\", \"panss\"]\n",
    "\n",
    "    x_cols = [\"D:Jealousy pdi\"]\n",
    "    y_cols = [\"D:Jealousy panss\"]\n",
    "    for x_col in x_cols:\n",
    "        for y_col in y_cols:\n",
    "            print(x_col, y_col)\n",
    "            print(rm_corr(x_col, y_col, df))"
   ]
  },
  {
   "cell_type": "code",
   "execution_count": 5,
   "id": "42bad2b0-4ec3-4bc4-9d3b-71be08c180f7",
   "metadata": {},
   "outputs": [
    {
     "name": "stdout",
     "output_type": "stream",
     "text": [
      "D:Guilt and Sin pdi D:Guilt and Sin saps\n",
      "                    r  dof  pval          CI95%     power\n",
      "rm_corr -3.355213e-16    7   1.0  [-0.66, 0.66]  0.048849\n",
      "D:Guilt and Sin pdi D:Guilt and Sin panss\n",
      "                r  dof      pval          CI95%     power\n",
      "rm_corr -0.122169    7  0.754193  [-0.73, 0.59]  0.060455\n"
     ]
    }
   ],
   "source": [
    "import pandas as pd\n",
    "import pingouin as pg\n",
    "\n",
    "#for individual columns\n",
    "def rm_corr(x_col, y_col, df):\n",
    "\n",
    "    return pg.rm_corr(data=df, x=x_col, y=y_col, subject='ID')\n",
    "\n",
    "if __name__ == '__main__':\n",
    "    df = pd.read_excel(\"positive_symptoms_with_combined_cols.xlsx\")\n",
    "    basic_col_name = \"D:Guilt and Sin\"\n",
    "    x_questionnaires = [\"pdi\"]\n",
    "    y_questionnaires = [\"saps\", \"panss\"]\n",
    "\n",
    "    x_cols = [\"D:Guilt and Sin pdi\"]\n",
    "    y_cols = [\"D:Guilt and Sin saps\", \"D:Guilt and Sin panss\"]\n",
    "    for x_col in x_cols:\n",
    "        for y_col in y_cols:\n",
    "            print(x_col, y_col)\n",
    "            print(rm_corr(x_col, y_col, df))"
   ]
  },
  {
   "cell_type": "code",
   "execution_count": 6,
   "id": "bb57f08e-1092-4d7f-9717-f06afbf57f38",
   "metadata": {},
   "outputs": [
    {
     "name": "stdout",
     "output_type": "stream",
     "text": [
      "D:Thought Insertion pdi D:Thought Insertion saps\n",
      "                    r  dof  pval          CI95%     power\n",
      "rm_corr  9.829303e-16    7   1.0  [-0.66, 0.66]  0.048849\n",
      "D:Thought Insertion pdi D:Thought Insertion panss\n",
      "                r  dof      pval          CI95%     power\n",
      "rm_corr  0.610847    7  0.080565  [-0.09, 0.91]  0.445751\n"
     ]
    }
   ],
   "source": [
    "import pandas as pd\n",
    "import pingouin as pg\n",
    "\n",
    "#for individual columns\n",
    "def rm_corr(x_col, y_col, df):\n",
    "\n",
    "    return pg.rm_corr(data=df, x=x_col, y=y_col, subject='ID')\n",
    "\n",
    "if __name__ == '__main__':\n",
    "    df = pd.read_excel(\"positive_symptoms_with_combined_cols.xlsx\")\n",
    "    basic_col_name = \"D:Thought Insertion\"\n",
    "    x_questionnaires = [\"pdi\"]\n",
    "    y_questionnaires = [\"saps\", \"panss\"]\n",
    "\n",
    "    x_cols = [\"D:Thought Insertion pdi\"]\n",
    "    y_cols = [\"D:Thought Insertion saps\", \"D:Thought Insertion panss\"]\n",
    "    for x_col in x_cols:\n",
    "        for y_col in y_cols:\n",
    "            print(x_col, y_col)\n",
    "            print(rm_corr(x_col, y_col, df))"
   ]
  },
  {
   "cell_type": "code",
   "execution_count": 8,
   "id": "62e9a164-a4f2-4fbb-ab87-e841417652b6",
   "metadata": {},
   "outputs": [
    {
     "name": "stdout",
     "output_type": "stream",
     "text": [
      "D:Being Controlled pdi D:Being Controlled panss\n",
      "                r  dof      pval         CI95%     power\n",
      "rm_corr  0.568535    8  0.086361  [-0.1, 0.88]  0.429084\n"
     ]
    }
   ],
   "source": [
    "import pandas as pd\n",
    "import pingouin as pg\n",
    "\n",
    "#for individual columns\n",
    "def rm_corr(x_col, y_col, df):\n",
    "\n",
    "    return pg.rm_corr(data=df, x=x_col, y=y_col, subject='ID')\n",
    "\n",
    "if __name__ == '__main__':\n",
    "    df = pd.read_excel(\"positive_symptoms_with_combined_cols.xlsx\")\n",
    "    basic_col_name = \"D:Being Controlled\"\n",
    "    x_questionnaires = [\"pdi\"]\n",
    "    y_questionnaires = [\"saps\", \"panss\"]\n",
    "\n",
    "    x_cols = [\"D:Being Controlled pdi\"]\n",
    "    y_cols = [\"D:Being Controlled panss\"]\n",
    "    for x_col in x_cols:\n",
    "        for y_col in y_cols:\n",
    "            print(x_col, y_col)\n",
    "            print(rm_corr(x_col, y_col, df))"
   ]
  },
  {
   "cell_type": "code",
   "execution_count": 10,
   "id": "974d14b9-4e05-4232-886b-0f89dce4f47c",
   "metadata": {},
   "outputs": [
    {
     "name": "stdout",
     "output_type": "stream",
     "text": [
      "D: Thought Withdrawal pdi D:Being Controlled panss\n",
      "                r  dof      pval          CI95%     power\n",
      "rm_corr  0.170251    8  0.638184  [-0.51, 0.72]  0.075252\n"
     ]
    }
   ],
   "source": [
    "import pandas as pd\n",
    "import pingouin as pg\n",
    "\n",
    "#for individual columns\n",
    "def rm_corr(x_col, y_col, df):\n",
    "\n",
    "    return pg.rm_corr(data=df, x=x_col, y=y_col, subject='ID')\n",
    "\n",
    "if __name__ == '__main__':\n",
    "    df = pd.read_excel(\"positive_symptoms_with_combined_cols.xlsx\")\n",
    "    basic_col_name = \"D: Thought Withdrawal\"\n",
    "    x_questionnaires = [\"pdi\"]\n",
    "    y_questionnaires = [\"saps\", \"panss\"]\n",
    "\n",
    "    x_cols = [\"D: Thought Withdrawal pdi\"]\n",
    "    y_cols = [\"D:Being Controlled panss\"]\n",
    "    for x_col in x_cols:\n",
    "        for y_col in y_cols:\n",
    "            print(x_col, y_col)\n",
    "            print(rm_corr(x_col, y_col, df))"
   ]
  },
  {
   "cell_type": "code",
   "execution_count": 12,
   "id": "db3e54dd-b7db-4478-9eae-2130268bfe66",
   "metadata": {},
   "outputs": [
    {
     "name": "stdout",
     "output_type": "stream",
     "text": [
      "Insight pdi Insight saps\n",
      "                r  dof      pval         CI95%     power\n",
      "rm_corr  0.361034    7  0.339786  [-0.4, 0.83]  0.163026\n",
      "Insight pdi Insight panss\n",
      "                r  dof      pval          CI95%     power\n",
      "rm_corr  0.551488    7  0.123749  [-0.18, 0.89]  0.357536\n"
     ]
    }
   ],
   "source": [
    "import pandas as pd\n",
    "import pingouin as pg\n",
    "\n",
    "#for individual columns\n",
    "def rm_corr(x_col, y_col, df):\n",
    "\n",
    "    return pg.rm_corr(data=df, x=x_col, y=y_col, subject='ID')\n",
    "\n",
    "if __name__ == '__main__':\n",
    "    df = pd.read_excel(\"positive_symptoms_with_combined_cols.xlsx\")\n",
    "    basic_col_name = \"Insight\"\n",
    "    x_questionnaires = [\"pdi\"]\n",
    "    y_questionnaires = [\"saps\", \"panss\"]\n",
    "\n",
    "    x_cols = [\"Insight pdi\"]\n",
    "    y_cols = [\"Insight saps\", \"Insight panss\"]\n",
    "    for x_col in x_cols:\n",
    "        for y_col in y_cols:\n",
    "            print(x_col, y_col)\n",
    "            print(rm_corr(x_col, y_col, df))"
   ]
  },
  {
   "cell_type": "code",
   "execution_count": 13,
   "id": "d1d54f25-b601-4b30-85ea-b5fd76cf1e17",
   "metadata": {},
   "outputs": [
    {
     "name": "stdout",
     "output_type": "stream",
     "text": [
      "General Hallucinations lshs Insight panss\n",
      "               r  dof      pval          CI95%     power\n",
      "rm_corr  0.40346    7  0.281565  [-0.36, 0.84]  0.195847\n",
      "General Hallucinations ahrs Insight panss\n",
      "                r  dof      pval          CI95%     power\n",
      "rm_corr  0.654654    7  0.055702  [-0.02, 0.92]  0.519673\n"
     ]
    }
   ],
   "source": [
    "import pandas as pd\n",
    "import pingouin as pg\n",
    "\n",
    "#for individual columns\n",
    "def rm_corr(x_col, y_col, df):\n",
    "\n",
    "    return pg.rm_corr(data=df, x=x_col, y=y_col, subject='ID')\n",
    "\n",
    "if __name__ == '__main__':\n",
    "    df = pd.read_excel(\"positive_symptoms_with_combined_cols.xlsx\")\n",
    "    basic_col_name = \"General Hallucinations\"\n",
    "    x_questionnaires = [\"lshs\",\"ahrs\"]\n",
    "    y_questionnaires = [\"saps\", \"panss\"]\n",
    "\n",
    "    x_cols = [\"General Hallucinations lshs\", \"General Hallucinations ahrs\"]\n",
    "    y_cols = [\"Insight panss\"]\n",
    "    for x_col in x_cols:\n",
    "        for y_col in y_cols:\n",
    "            print(x_col, y_col)\n",
    "            print(rm_corr(x_col, y_col, df))"
   ]
  },
  {
   "cell_type": "code",
   "execution_count": 14,
   "id": "beb4f370-d161-4731-962a-0873010aedc7",
   "metadata": {},
   "outputs": [
    {
     "name": "stdout",
     "output_type": "stream",
     "text": [
      "General Delusions pdi General Delusions saps\n",
      "                r  dof      pval         CI95%     power\n",
      "rm_corr  0.672328    7  0.047259  [0.01, 0.92]  0.551467\n",
      "General Delusions pdi General Delusions panss\n",
      "               r  dof      pval          CI95%     power\n",
      "rm_corr  0.31054    7  0.416033  [-0.45, 0.81]  0.130559\n"
     ]
    }
   ],
   "source": [
    "import pandas as pd\n",
    "import pingouin as pg\n",
    "\n",
    "#for individual columns\n",
    "def rm_corr(x_col, y_col, df):\n",
    "\n",
    "    return pg.rm_corr(data=df, x=x_col, y=y_col, subject='ID')\n",
    "\n",
    "if __name__ == '__main__':\n",
    "    df = pd.read_excel(\"positive_symptoms_with_combined_cols.xlsx\")\n",
    "    basic_col_name = \"General Delusions\"\n",
    "    x_questionnaires = [\"lshs\",\"ahrs\"]\n",
    "    y_questionnaires = [\"saps\", \"panss\"]\n",
    "\n",
    "    x_cols = [\"General Delusions pdi\"]\n",
    "    y_cols = [\"General Delusions saps\",\"General Delusions panss\"]\n",
    "    for x_col in x_cols:\n",
    "        for y_col in y_cols:\n",
    "            print(x_col, y_col)\n",
    "            print(rm_corr(x_col, y_col, df))"
   ]
  },
  {
   "cell_type": "code",
   "execution_count": null,
   "id": "49a5b0f4-f3f4-4ced-9019-bcad09f59648",
   "metadata": {},
   "outputs": [],
   "source": []
  }
 ],
 "metadata": {
  "kernelspec": {
   "display_name": "Python [conda env:anaconda3]",
   "language": "python",
   "name": "conda-env-anaconda3-py"
  },
  "language_info": {
   "codemirror_mode": {
    "name": "ipython",
    "version": 3
   },
   "file_extension": ".py",
   "mimetype": "text/x-python",
   "name": "python",
   "nbconvert_exporter": "python",
   "pygments_lexer": "ipython3",
   "version": "3.13.5"
  }
 },
 "nbformat": 4,
 "nbformat_minor": 5
}
